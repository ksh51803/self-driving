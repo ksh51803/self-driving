{
 "cells": [
  {
   "cell_type": "code",
   "execution_count": 1,
   "metadata": {},
   "outputs": [],
   "source": [
    "# bias 없음\n",
    "#x_trains = [1,   1.2, 2.3, 3, 3.2, 4.2, 4.6,   4, 5, 4.2]\n",
    "xs_trains = [[1.0, 1],[1.2, 2],[2.3, 1],[3.0, 4],[3.2, 0],[4.2, 0],[4.6, 0],[4.0, 3],[5.0, 1],[4.2, 3]]\n",
    "y_trains =  [ 2.4,     3.0,     4.4,     7.0,     5.2,     6.4,     7.1,     8.2,     9.0,     7.7]\n",
    "\n",
    "m = len(y_trains)\n",
    "ws = [0, 0]\n",
    "epochs = 1000 # 반복 횟수\n",
    "x_tests = [[1.7, 2], [3.7, 1], [5.5, 3]]"
   ]
  },
  {
   "cell_type": "code",
   "execution_count": 2,
   "metadata": {},
   "outputs": [],
   "source": [
    "import numpy as np\n",
    "\n",
    "xs_trains = np.array(xs_trains)\n",
    "y_trains = np.array(y_trains)\n",
    "ws = np.array(ws)\n",
    "x_tests = np.array(x_tests)"
   ]
  },
  {
   "cell_type": "code",
   "execution_count": 3,
   "metadata": {},
   "outputs": [],
   "source": [
    "# hypothesis(x1, x2) = w1*x1 + w2*x2\n",
    "# hypothesis(xs) = ws*xs\n",
    "def h(xs):\n",
    "    global ws\n",
    "    #hypothesis = ws * xs\n",
    "    hypothesis = np.dot(ws, xs)\n",
    "    return hypothesis"
   ]
  },
  {
   "cell_type": "code",
   "execution_count": 4,
   "metadata": {},
   "outputs": [],
   "source": [
    "# Gradient descent(경사 하강법) 알고리즘 : cost함수를 미분\n",
    "def gradient(xs_trains, y_trains):\n",
    "    gradient = None\n",
    "    return gradient"
   ]
  },
  {
   "cell_type": "code",
   "execution_count": 5,
   "metadata": {},
   "outputs": [],
   "source": [
    "# 모델 학습 시키기"
   ]
  },
  {
   "cell_type": "code",
   "execution_count": 6,
   "metadata": {},
   "outputs": [],
   "source": [
    "# 결과값 예측"
   ]
  }
 ],
 "metadata": {
  "kernelspec": {
   "display_name": "Python 3",
   "language": "python",
   "name": "python3"
  },
  "language_info": {
   "codemirror_mode": {
    "name": "ipython",
    "version": 3
   },
   "file_extension": ".py",
   "mimetype": "text/x-python",
   "name": "python",
   "nbconvert_exporter": "python",
   "pygments_lexer": "ipython3",
   "version": "3.7.3"
  }
 },
 "nbformat": 4,
 "nbformat_minor": 2
}
