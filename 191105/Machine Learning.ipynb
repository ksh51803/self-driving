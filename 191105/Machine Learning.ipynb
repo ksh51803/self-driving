{
 "cells": [
  {
   "cell_type": "code",
   "execution_count": 1,
   "metadata": {},
   "outputs": [],
   "source": [
    "# bias 필요 없음\n",
    "x_trains = [  1, 1.2, 2.3, 3, 3.2, 4.2, 4.6,   4, 5, 4.2]\n",
    "y_trains = [2.4, 3.0, 4.4, 7, 5.2, 6.4, 7.1, 8.2, 9, 7.7]\n",
    "m = len(y_trains) # training data 갯수\n",
    "w = 0 # weight\n",
    "a = 0.1 # learning rate\n",
    "epochs = 100 # 반복 횟수\n",
    "x_tests = [1.7, 3.7, 5.5]"
   ]
  },
  {
   "cell_type": "code",
   "execution_count": 2,
   "metadata": {},
   "outputs": [],
   "source": [
    "# hypothesis : linear regression로 가설 설정 \n",
    "def h(x):\n",
    "    global w\n",
    "    hypeosis = w * x\n",
    "    return hypeosis"
   ]
  },
  {
   "cell_type": "code",
   "execution_count": 3,
   "metadata": {},
   "outputs": [],
   "source": [
    "# Gradient descent(경사 하강법) 알고리즘 : cost함수를 미분\n",
    "def gradient(x_trains, y_trains):  \n",
    "    global w\n",
    "    sum = 0\n",
    "    for i in range(m):\n",
    "        sum = (w*x_trains[i] - y_trains[i])*x_trains[i]\n",
    "    gradient = sum / m;\n",
    "    return gradient"
   ]
  },
  {
   "cell_type": "code",
   "execution_count": 4,
   "metadata": {},
   "outputs": [],
   "source": [
    "# 모델 학습 시키기\n",
    "for step in range(epochs):\n",
    "    #print('w:', w)\n",
    "    w = w - a*gradient(x_trains, y_trains)"
   ]
  },
  {
   "cell_type": "code",
   "execution_count": 5,
   "metadata": {},
   "outputs": [
    {
     "name": "stdout",
     "output_type": "stream",
     "text": [
      "[3.1166666550435083, 6.783333308035871, 10.083333295728997]\n"
     ]
    }
   ],
   "source": [
    "# 결과값 예측\n",
    "y_hats = [h(x) for x in x_tests]\n",
    "print(y_hats)"
   ]
  },
  {
   "cell_type": "code",
   "execution_count": 6,
   "metadata": {
    "scrolled": true
   },
   "outputs": [
    {
     "data": {
      "text/plain": [
       "[<matplotlib.lines.Line2D at 0x212d41c3160>]"
      ]
     },
     "execution_count": 6,
     "metadata": {},
     "output_type": "execute_result"
    },
    {
     "data": {
      "image/png": "[encoded data removed]",
      "text/plain": [
       "<Figure size 432x288 with 1 Axes>"
      ]
     },
     "metadata": {
      "needs_background": "light"
     },
     "output_type": "display_data"
    }
   ],
   "source": [
    "# 실제 데이터(■)와 예측 결과값(●) 비교 그래프\n",
    "%matplotlib inline\n",
    "import matplotlib.pyplot as plt\n",
    "plt.plot(x_trains, y_trains, 'rs')\n",
    "plt.plot(x_tests, y_hats, 'o--')"
   ]
  }
 ],
 "metadata": {
  "kernelspec": {
   "display_name": "Python 3",
   "language": "python",
   "name": "python3"
  },
  "language_info": {
   "codemirror_mode": {
    "name": "ipython",
    "version": 3
   },
   "file_extension": ".py",
   "mimetype": "text/x-python",
   "name": "python",
   "nbconvert_exporter": "python",
   "pygments_lexer": "ipython3",
   "version": "3.7.3"
  }
 },
 "nbformat": 4,
 "nbformat_minor": 2
}
